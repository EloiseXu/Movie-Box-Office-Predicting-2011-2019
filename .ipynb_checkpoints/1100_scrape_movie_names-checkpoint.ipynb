{
 "cells": [
  {
   "cell_type": "code",
   "execution_count": 1,
   "metadata": {},
   "outputs": [],
   "source": [
    "from lxml import etree\n",
    "import requests"
   ]
  },
  {
   "cell_type": "code",
   "execution_count": 5,
   "metadata": {},
   "outputs": [
    {
     "name": "stdout",
     "output_type": "stream",
     "text": [
      "Failure in 2011\n",
      "Failure in 2012\n",
      "Failure in 2013\n",
      "Failure in 2014\n",
      "Failure in 2015\n",
      "Failure in 2016\n",
      "2017 completed successfully\n",
      "2018 completed successfully\n",
      "2019 completed successfully\n"
     ]
    }
   ],
   "source": [
    "for year in range(2011, 2020):\n",
    "    try: \n",
    "        url = 'http://www.1905.com/mdb/film/calendaryear/%s' % str(year)\n",
    "        req = requests.get(url)\n",
    "        html = req.text\n",
    "        tree = etree.HTML(html)\n",
    "        movies_names = tree.xpath('//a[@class=\"film\"]/text()')\n",
    "        \n",
    "        output_file = 'movies/movies-%s.txt' % str(year)\n",
    "        fobj = open(output_file, 'w')\n",
    "        for movie in movies_names:\n",
    "            fobj.write(movie + '\\n')\n",
    "        fobj.close()\n",
    "        print(str(year) + ' completed successfully')\n",
    "    except:\n",
    "        print('Failure in ' + str(year))\n"
   ]
  }
 ],
 "metadata": {
  "kernelspec": {
   "display_name": "Python 3",
   "language": "python",
   "name": "python3"
  },
  "language_info": {
   "codemirror_mode": {
    "name": "ipython",
    "version": 3
   },
   "file_extension": ".py",
   "mimetype": "text/x-python",
   "name": "python",
   "nbconvert_exporter": "python",
   "pygments_lexer": "ipython3",
   "version": "3.6.7"
  }
 },
 "nbformat": 4,
 "nbformat_minor": 2
}
